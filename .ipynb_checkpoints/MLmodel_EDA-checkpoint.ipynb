{
 "cells": [
  {
   "cell_type": "code",
   "execution_count": 1,
   "metadata": {
    "colab": {},
    "colab_type": "code",
    "id": "6o89TfTyAgVp"
   },
   "outputs": [],
   "source": [
    "import pandas as pd\n",
    "import matplotlib.pyplot as plt\n",
    "%matplotlib inline\n",
    "import seaborn as sns\n",
    "import time\n",
    "import random\n",
    "\n",
    "import warnings\n",
    "warnings.filterwarnings(\"ignore\")\n",
    "\n",
    "full = 'bank-full.csv'\n",
    "sample = 'bank.csv'\n",
    "df = pd.read_csv(full, delimiter = ';')"
   ]
  },
  {
   "cell_type": "code",
   "execution_count": 3,
   "metadata": {
    "colab": {
     "base_uri": "https://localhost:8080/",
     "height": 85
    },
    "colab_type": "code",
    "id": "59962ow7ddI-",
    "outputId": "90843ef6-59ba-44bc-b81a-db116f75737c"
   },
   "outputs": [
    {
     "name": "stdout",
     "output_type": "stream",
     "text": [
      "(45211, 17)\n"
     ]
    },
    {
     "data": {
      "text/plain": [
       "no     0.883015\n",
       "yes    0.116985\n",
       "Name: y, dtype: float64"
      ]
     },
     "execution_count": 3,
     "metadata": {},
     "output_type": "execute_result"
    }
   ],
   "source": [
    "# shape of the dataset\n",
    "print(df.shape)\n",
    "\n",
    "# df_baseline\n",
    "df.y.value_counts() / len(df.y)"
   ]
  },
  {
   "cell_type": "code",
   "execution_count": 4,
   "metadata": {
    "colab": {
     "base_uri": "https://localhost:8080/",
     "height": 34
    },
    "colab_type": "code",
    "id": "eD86Wc2fHTD4",
    "outputId": "28005675-c1e0-48f9-e34d-05341d39a81a"
   },
   "outputs": [
    {
     "name": "stdout",
     "output_type": "stream",
     "text": [
      "Positive samples: (5289, 17)\n"
     ]
    }
   ],
   "source": [
    "# Since the dataset is unbalanced we need to extract and count the smaller class of positives\n",
    "df_y=df[df['y']==\"yes\"]\n",
    "print(\"Positive samples:\",df_y.shape)"
   ]
  },
  {
   "cell_type": "code",
   "execution_count": 5,
   "metadata": {
    "colab": {
     "base_uri": "https://localhost:8080/",
     "height": 34
    },
    "colab_type": "code",
    "id": "4P64OB86H85j",
    "outputId": "e1a1d23c-0006-4bb7-9f90-34f26e6d5708"
   },
   "outputs": [
    {
     "name": "stdout",
     "output_type": "stream",
     "text": [
      "Balanced negative samples: (5289, 17)\n"
     ]
    }
   ],
   "source": [
    "# Next we will extract all the negatives and random sample a subset equal to the class of positives\n",
    "random.seed(a=42) # Set random seed\n",
    "df_n = df[df['y']==\"no\"] # Collect the negatives\n",
    "df_n= df_n.sample(n=len(df_y)) # Create a random sample of negatives equal to positives\n",
    "print(\"Balanced negative samples:\",df_n.shape) # Check the length of the negative sample"
   ]
  },
  {
   "cell_type": "code",
   "execution_count": 6,
   "metadata": {
    "colab": {
     "base_uri": "https://localhost:8080/",
     "height": 34
    },
    "colab_type": "code",
    "id": "4gBRI1gvIzQp",
    "outputId": "d35f464a-66ea-44f0-a7f2-96cd09fa23fa"
   },
   "outputs": [
    {
     "name": "stdout",
     "output_type": "stream",
     "text": [
      "Combined samples: (10578, 17)\n"
     ]
    }
   ],
   "source": [
    "# Append the negative sample balanced with the positive class\n",
    "df_balanced=df_y.append(df_n)\n",
    "print(\"Combined samples:\",df_balanced.shape)"
   ]
  },
  {
   "cell_type": "code",
   "execution_count": 7,
   "metadata": {
    "colab": {
     "base_uri": "https://localhost:8080/",
     "height": 34
    },
    "colab_type": "code",
    "id": "_LN7-SJUwJaT",
    "outputId": "05d57958-30b7-4fbb-9eed-c234e1435123"
   },
   "outputs": [
    {
     "name": "stdout",
     "output_type": "stream",
     "text": [
      "Baseline dataset (10578, 17)\n"
     ]
    }
   ],
   "source": [
    "# Let's random sample a baseline dataset equal in length to the balanced data set\n",
    "df_baseline=df.sample(n=len(df_balanced))\n",
    "print(\"Baseline dataset\",df_baseline.shape)"
   ]
  },
  {
   "cell_type": "code",
   "execution_count": 8,
   "metadata": {
    "colab": {
     "base_uri": "https://localhost:8080/",
     "height": 85
    },
    "colab_type": "code",
    "id": "OJ3eFRZcI-3w",
    "outputId": "f0639fc7-84ac-468d-ac2f-f9184eeb7fde"
   },
   "outputs": [
    {
     "name": "stdout",
     "output_type": "stream",
     "text": [
      "Baseline Dataset Label Distribution\n",
      " no     0.880979\n",
      "yes    0.119021\n",
      "Name: y, dtype: float64\n"
     ]
    }
   ],
   "source": [
    "# df_baseline\n",
    "print(\"Baseline Dataset Label Distribution\\n\",df_baseline.y.value_counts() / len(df_baseline.y))"
   ]
  },
  {
   "cell_type": "code",
   "execution_count": 9,
   "metadata": {
    "colab": {
     "base_uri": "https://localhost:8080/",
     "height": 85
    },
    "colab_type": "code",
    "id": "ovSqI5skxIrr",
    "outputId": "68552b22-e634-4244-93eb-e933307b3d40"
   },
   "outputs": [
    {
     "name": "stdout",
     "output_type": "stream",
     "text": [
      "Balanced Dataset Label Distribution\n",
      " yes    0.5\n",
      "no     0.5\n",
      "Name: y, dtype: float64\n"
     ]
    }
   ],
   "source": [
    "# df_balanced\n",
    "print(\"Balanced Dataset Label Distribution\\n\",df_balanced.y.value_counts() / len(df_balanced.y))"
   ]
  },
  {
   "cell_type": "markdown",
   "metadata": {
    "colab_type": "text",
    "id": "yOtbKeIrIL3n"
   },
   "source": [
    "# 1. Data Pre-processing and EDA"
   ]
  },
  {
   "cell_type": "code",
   "execution_count": 10,
   "metadata": {
    "colab": {
     "base_uri": "https://localhost:8080/",
     "height": 224
    },
    "colab_type": "code",
    "id": "4nGEauJzddJF",
    "outputId": "4740d7d5-d362-47a5-eb63-d1743d8e7a0e"
   },
   "outputs": [
    {
     "data": {
      "text/html": [
       "<div>\n",
       "<style scoped>\n",
       "    .dataframe tbody tr th:only-of-type {\n",
       "        vertical-align: middle;\n",
       "    }\n",
       "\n",
       "    .dataframe tbody tr th {\n",
       "        vertical-align: top;\n",
       "    }\n",
       "\n",
       "    .dataframe thead th {\n",
       "        text-align: right;\n",
       "    }\n",
       "</style>\n",
       "<table border=\"1\" class=\"dataframe\">\n",
       "  <thead>\n",
       "    <tr style=\"text-align: right;\">\n",
       "      <th></th>\n",
       "      <th>age</th>\n",
       "      <th>job</th>\n",
       "      <th>marital</th>\n",
       "      <th>education</th>\n",
       "      <th>default</th>\n",
       "      <th>balance</th>\n",
       "      <th>housing</th>\n",
       "      <th>loan</th>\n",
       "      <th>contact</th>\n",
       "      <th>day</th>\n",
       "      <th>month</th>\n",
       "      <th>duration</th>\n",
       "      <th>campaign</th>\n",
       "      <th>pdays</th>\n",
       "      <th>previous</th>\n",
       "      <th>poutcome</th>\n",
       "      <th>y</th>\n",
       "    </tr>\n",
       "  </thead>\n",
       "  <tbody>\n",
       "    <tr>\n",
       "      <th>83</th>\n",
       "      <td>59</td>\n",
       "      <td>admin.</td>\n",
       "      <td>married</td>\n",
       "      <td>secondary</td>\n",
       "      <td>no</td>\n",
       "      <td>2343</td>\n",
       "      <td>yes</td>\n",
       "      <td>no</td>\n",
       "      <td>unknown</td>\n",
       "      <td>5</td>\n",
       "      <td>may</td>\n",
       "      <td>1042</td>\n",
       "      <td>1</td>\n",
       "      <td>-1</td>\n",
       "      <td>0</td>\n",
       "      <td>unknown</td>\n",
       "      <td>yes</td>\n",
       "    </tr>\n",
       "    <tr>\n",
       "      <th>86</th>\n",
       "      <td>56</td>\n",
       "      <td>admin.</td>\n",
       "      <td>married</td>\n",
       "      <td>secondary</td>\n",
       "      <td>no</td>\n",
       "      <td>45</td>\n",
       "      <td>no</td>\n",
       "      <td>no</td>\n",
       "      <td>unknown</td>\n",
       "      <td>5</td>\n",
       "      <td>may</td>\n",
       "      <td>1467</td>\n",
       "      <td>1</td>\n",
       "      <td>-1</td>\n",
       "      <td>0</td>\n",
       "      <td>unknown</td>\n",
       "      <td>yes</td>\n",
       "    </tr>\n",
       "    <tr>\n",
       "      <th>87</th>\n",
       "      <td>41</td>\n",
       "      <td>technician</td>\n",
       "      <td>married</td>\n",
       "      <td>secondary</td>\n",
       "      <td>no</td>\n",
       "      <td>1270</td>\n",
       "      <td>yes</td>\n",
       "      <td>no</td>\n",
       "      <td>unknown</td>\n",
       "      <td>5</td>\n",
       "      <td>may</td>\n",
       "      <td>1389</td>\n",
       "      <td>1</td>\n",
       "      <td>-1</td>\n",
       "      <td>0</td>\n",
       "      <td>unknown</td>\n",
       "      <td>yes</td>\n",
       "    </tr>\n",
       "    <tr>\n",
       "      <th>129</th>\n",
       "      <td>55</td>\n",
       "      <td>services</td>\n",
       "      <td>married</td>\n",
       "      <td>secondary</td>\n",
       "      <td>no</td>\n",
       "      <td>2476</td>\n",
       "      <td>yes</td>\n",
       "      <td>no</td>\n",
       "      <td>unknown</td>\n",
       "      <td>5</td>\n",
       "      <td>may</td>\n",
       "      <td>579</td>\n",
       "      <td>1</td>\n",
       "      <td>-1</td>\n",
       "      <td>0</td>\n",
       "      <td>unknown</td>\n",
       "      <td>yes</td>\n",
       "    </tr>\n",
       "    <tr>\n",
       "      <th>168</th>\n",
       "      <td>54</td>\n",
       "      <td>admin.</td>\n",
       "      <td>married</td>\n",
       "      <td>tertiary</td>\n",
       "      <td>no</td>\n",
       "      <td>184</td>\n",
       "      <td>no</td>\n",
       "      <td>no</td>\n",
       "      <td>unknown</td>\n",
       "      <td>5</td>\n",
       "      <td>may</td>\n",
       "      <td>673</td>\n",
       "      <td>2</td>\n",
       "      <td>-1</td>\n",
       "      <td>0</td>\n",
       "      <td>unknown</td>\n",
       "      <td>yes</td>\n",
       "    </tr>\n",
       "  </tbody>\n",
       "</table>\n",
       "</div>"
      ],
      "text/plain": [
       "     age         job  marital  education default  balance housing loan  \\\n",
       "83    59      admin.  married  secondary      no     2343     yes   no   \n",
       "86    56      admin.  married  secondary      no       45      no   no   \n",
       "87    41  technician  married  secondary      no     1270     yes   no   \n",
       "129   55    services  married  secondary      no     2476     yes   no   \n",
       "168   54      admin.  married   tertiary      no      184      no   no   \n",
       "\n",
       "     contact  day month  duration  campaign  pdays  previous poutcome    y  \n",
       "83   unknown    5   may      1042         1     -1         0  unknown  yes  \n",
       "86   unknown    5   may      1467         1     -1         0  unknown  yes  \n",
       "87   unknown    5   may      1389         1     -1         0  unknown  yes  \n",
       "129  unknown    5   may       579         1     -1         0  unknown  yes  \n",
       "168  unknown    5   may       673         2     -1         0  unknown  yes  "
      ]
     },
     "execution_count": 10,
     "metadata": {},
     "output_type": "execute_result"
    }
   ],
   "source": [
    "# Take a peak at the baseline dataset\n",
    "df_balanced.head() "
   ]
  },
  {
   "cell_type": "code",
   "execution_count": 11,
   "metadata": {
    "colab": {
     "base_uri": "https://localhost:8080/",
     "height": 297
    },
    "colab_type": "code",
    "id": "SZ67XgtxddJP",
    "outputId": "6c53d4f6-ae87-4811-f38e-04502f99dc1c"
   },
   "outputs": [
    {
     "data": {
      "text/html": [
       "<div>\n",
       "<style scoped>\n",
       "    .dataframe tbody tr th:only-of-type {\n",
       "        vertical-align: middle;\n",
       "    }\n",
       "\n",
       "    .dataframe tbody tr th {\n",
       "        vertical-align: top;\n",
       "    }\n",
       "\n",
       "    .dataframe thead th {\n",
       "        text-align: right;\n",
       "    }\n",
       "</style>\n",
       "<table border=\"1\" class=\"dataframe\">\n",
       "  <thead>\n",
       "    <tr style=\"text-align: right;\">\n",
       "      <th></th>\n",
       "      <th>age</th>\n",
       "      <th>balance</th>\n",
       "      <th>day</th>\n",
       "      <th>duration</th>\n",
       "      <th>campaign</th>\n",
       "      <th>pdays</th>\n",
       "      <th>previous</th>\n",
       "    </tr>\n",
       "  </thead>\n",
       "  <tbody>\n",
       "    <tr>\n",
       "      <th>count</th>\n",
       "      <td>10578.000000</td>\n",
       "      <td>10578.000000</td>\n",
       "      <td>10578.000000</td>\n",
       "      <td>10578.000000</td>\n",
       "      <td>10578.000000</td>\n",
       "      <td>10578.000000</td>\n",
       "      <td>10578.000000</td>\n",
       "    </tr>\n",
       "    <tr>\n",
       "      <th>mean</th>\n",
       "      <td>41.163642</td>\n",
       "      <td>1569.771412</td>\n",
       "      <td>15.554264</td>\n",
       "      <td>379.288334</td>\n",
       "      <td>2.473435</td>\n",
       "      <td>51.611269</td>\n",
       "      <td>0.832861</td>\n",
       "    </tr>\n",
       "    <tr>\n",
       "      <th>std</th>\n",
       "      <td>11.926906</td>\n",
       "      <td>3370.646310</td>\n",
       "      <td>8.393978</td>\n",
       "      <td>350.379013</td>\n",
       "      <td>2.645859</td>\n",
       "      <td>108.220026</td>\n",
       "      <td>2.259569</td>\n",
       "    </tr>\n",
       "    <tr>\n",
       "      <th>min</th>\n",
       "      <td>18.000000</td>\n",
       "      <td>-3313.000000</td>\n",
       "      <td>1.000000</td>\n",
       "      <td>0.000000</td>\n",
       "      <td>1.000000</td>\n",
       "      <td>-1.000000</td>\n",
       "      <td>0.000000</td>\n",
       "    </tr>\n",
       "    <tr>\n",
       "      <th>25%</th>\n",
       "      <td>32.000000</td>\n",
       "      <td>123.250000</td>\n",
       "      <td>8.000000</td>\n",
       "      <td>144.000000</td>\n",
       "      <td>1.000000</td>\n",
       "      <td>-1.000000</td>\n",
       "      <td>0.000000</td>\n",
       "    </tr>\n",
       "    <tr>\n",
       "      <th>50%</th>\n",
       "      <td>39.000000</td>\n",
       "      <td>563.500000</td>\n",
       "      <td>15.000000</td>\n",
       "      <td>261.000000</td>\n",
       "      <td>2.000000</td>\n",
       "      <td>-1.000000</td>\n",
       "      <td>0.000000</td>\n",
       "    </tr>\n",
       "    <tr>\n",
       "      <th>75%</th>\n",
       "      <td>49.000000</td>\n",
       "      <td>1748.500000</td>\n",
       "      <td>21.000000</td>\n",
       "      <td>506.000000</td>\n",
       "      <td>3.000000</td>\n",
       "      <td>44.750000</td>\n",
       "      <td>1.000000</td>\n",
       "    </tr>\n",
       "    <tr>\n",
       "      <th>max</th>\n",
       "      <td>95.000000</td>\n",
       "      <td>102127.000000</td>\n",
       "      <td>31.000000</td>\n",
       "      <td>3881.000000</td>\n",
       "      <td>58.000000</td>\n",
       "      <td>854.000000</td>\n",
       "      <td>58.000000</td>\n",
       "    </tr>\n",
       "  </tbody>\n",
       "</table>\n",
       "</div>"
      ],
      "text/plain": [
       "                age        balance           day      duration      campaign  \\\n",
       "count  10578.000000   10578.000000  10578.000000  10578.000000  10578.000000   \n",
       "mean      41.163642    1569.771412     15.554264    379.288334      2.473435   \n",
       "std       11.926906    3370.646310      8.393978    350.379013      2.645859   \n",
       "min       18.000000   -3313.000000      1.000000      0.000000      1.000000   \n",
       "25%       32.000000     123.250000      8.000000    144.000000      1.000000   \n",
       "50%       39.000000     563.500000     15.000000    261.000000      2.000000   \n",
       "75%       49.000000    1748.500000     21.000000    506.000000      3.000000   \n",
       "max       95.000000  102127.000000     31.000000   3881.000000     58.000000   \n",
       "\n",
       "              pdays      previous  \n",
       "count  10578.000000  10578.000000  \n",
       "mean      51.611269      0.832861  \n",
       "std      108.220026      2.259569  \n",
       "min       -1.000000      0.000000  \n",
       "25%       -1.000000      0.000000  \n",
       "50%       -1.000000      0.000000  \n",
       "75%       44.750000      1.000000  \n",
       "max      854.000000     58.000000  "
      ]
     },
     "execution_count": 11,
     "metadata": {},
     "output_type": "execute_result"
    }
   ],
   "source": [
    "df_balanced.describe()"
   ]
  },
  {
   "cell_type": "code",
   "execution_count": 12,
   "metadata": {
    "colab": {
     "base_uri": "https://localhost:8080/",
     "height": 391
    },
    "colab_type": "code",
    "id": "EfrmafJ-ddJU",
    "outputId": "871b231a-d12f-4667-f7df-a2faac892f61"
   },
   "outputs": [
    {
     "name": "stdout",
     "output_type": "stream",
     "text": [
      "<class 'pandas.core.frame.DataFrame'>\n",
      "Int64Index: 10578 entries, 83 to 11089\n",
      "Data columns (total 17 columns):\n",
      " #   Column     Non-Null Count  Dtype \n",
      "---  ------     --------------  ----- \n",
      " 0   age        10578 non-null  int64 \n",
      " 1   job        10578 non-null  object\n",
      " 2   marital    10578 non-null  object\n",
      " 3   education  10578 non-null  object\n",
      " 4   default    10578 non-null  object\n",
      " 5   balance    10578 non-null  int64 \n",
      " 6   housing    10578 non-null  object\n",
      " 7   loan       10578 non-null  object\n",
      " 8   contact    10578 non-null  object\n",
      " 9   day        10578 non-null  int64 \n",
      " 10  month      10578 non-null  object\n",
      " 11  duration   10578 non-null  int64 \n",
      " 12  campaign   10578 non-null  int64 \n",
      " 13  pdays      10578 non-null  int64 \n",
      " 14  previous   10578 non-null  int64 \n",
      " 15  poutcome   10578 non-null  object\n",
      " 16  y          10578 non-null  object\n",
      "dtypes: int64(7), object(10)\n",
      "memory usage: 1.5+ MB\n"
     ]
    }
   ],
   "source": [
    "df_balanced.info()"
   ]
  },
  {
   "cell_type": "code",
   "execution_count": 13,
   "metadata": {
    "colab": {
     "base_uri": "https://localhost:8080/",
     "height": 323
    },
    "colab_type": "code",
    "id": "m7eGWDNYddJZ",
    "outputId": "08579399-aa99-4707-f882-376ddf424be9"
   },
   "outputs": [
    {
     "data": {
      "text/plain": [
       "age          0\n",
       "job          0\n",
       "marital      0\n",
       "education    0\n",
       "default      0\n",
       "balance      0\n",
       "housing      0\n",
       "loan         0\n",
       "contact      0\n",
       "day          0\n",
       "month        0\n",
       "duration     0\n",
       "campaign     0\n",
       "pdays        0\n",
       "previous     0\n",
       "poutcome     0\n",
       "y            0\n",
       "dtype: int64"
      ]
     },
     "execution_count": 13,
     "metadata": {},
     "output_type": "execute_result"
    }
   ],
   "source": [
    "# There are no NaNs\n",
    "df_balanced.isnull().sum()"
   ]
  },
  {
   "cell_type": "code",
   "execution_count": 14,
   "metadata": {
    "colab": {
     "base_uri": "https://localhost:8080/",
     "height": 576
    },
    "colab_type": "code",
    "id": "4WcYQPfuddJc",
    "outputId": "d0ce07e1-da58-4907-df20-eb86251d6f29"
   },
   "outputs": [
    {
     "data": {
      "text/html": [
       "<div>\n",
       "<style scoped>\n",
       "    .dataframe tbody tr th:only-of-type {\n",
       "        vertical-align: middle;\n",
       "    }\n",
       "\n",
       "    .dataframe tbody tr th {\n",
       "        vertical-align: top;\n",
       "    }\n",
       "\n",
       "    .dataframe thead th {\n",
       "        text-align: right;\n",
       "    }\n",
       "</style>\n",
       "<table border=\"1\" class=\"dataframe\">\n",
       "  <thead>\n",
       "    <tr style=\"text-align: right;\">\n",
       "      <th></th>\n",
       "      <th>Count</th>\n",
       "    </tr>\n",
       "  </thead>\n",
       "  <tbody>\n",
       "    <tr>\n",
       "      <th>balance</th>\n",
       "      <td>3735</td>\n",
       "    </tr>\n",
       "    <tr>\n",
       "      <th>duration</th>\n",
       "      <td>1428</td>\n",
       "    </tr>\n",
       "    <tr>\n",
       "      <th>pdays</th>\n",
       "      <td>465</td>\n",
       "    </tr>\n",
       "    <tr>\n",
       "      <th>age</th>\n",
       "      <td>74</td>\n",
       "    </tr>\n",
       "    <tr>\n",
       "      <th>campaign</th>\n",
       "      <td>35</td>\n",
       "    </tr>\n",
       "    <tr>\n",
       "      <th>previous</th>\n",
       "      <td>33</td>\n",
       "    </tr>\n",
       "    <tr>\n",
       "      <th>day</th>\n",
       "      <td>31</td>\n",
       "    </tr>\n",
       "    <tr>\n",
       "      <th>job</th>\n",
       "      <td>12</td>\n",
       "    </tr>\n",
       "    <tr>\n",
       "      <th>month</th>\n",
       "      <td>12</td>\n",
       "    </tr>\n",
       "    <tr>\n",
       "      <th>poutcome</th>\n",
       "      <td>4</td>\n",
       "    </tr>\n",
       "    <tr>\n",
       "      <th>education</th>\n",
       "      <td>4</td>\n",
       "    </tr>\n",
       "    <tr>\n",
       "      <th>contact</th>\n",
       "      <td>3</td>\n",
       "    </tr>\n",
       "    <tr>\n",
       "      <th>marital</th>\n",
       "      <td>3</td>\n",
       "    </tr>\n",
       "    <tr>\n",
       "      <th>loan</th>\n",
       "      <td>2</td>\n",
       "    </tr>\n",
       "    <tr>\n",
       "      <th>housing</th>\n",
       "      <td>2</td>\n",
       "    </tr>\n",
       "    <tr>\n",
       "      <th>default</th>\n",
       "      <td>2</td>\n",
       "    </tr>\n",
       "    <tr>\n",
       "      <th>y</th>\n",
       "      <td>2</td>\n",
       "    </tr>\n",
       "  </tbody>\n",
       "</table>\n",
       "</div>"
      ],
      "text/plain": [
       "           Count\n",
       "balance     3735\n",
       "duration    1428\n",
       "pdays        465\n",
       "age           74\n",
       "campaign      35\n",
       "previous      33\n",
       "day           31\n",
       "job           12\n",
       "month         12\n",
       "poutcome       4\n",
       "education      4\n",
       "contact        3\n",
       "marital        3\n",
       "loan           2\n",
       "housing        2\n",
       "default        2\n",
       "y              2"
      ]
     },
     "execution_count": 14,
     "metadata": {},
     "output_type": "execute_result"
    }
   ],
   "source": [
    "# Examine the number of unique value for each column\n",
    "df_balanced.nunique().to_frame(name = 'Count').sort_values(by = 'Count',ascending=False)"
   ]
  },
  {
   "cell_type": "code",
   "execution_count": 15,
   "metadata": {
    "colab": {
     "base_uri": "https://localhost:8080/",
     "height": 357
    },
    "colab_type": "code",
    "id": "DBTBeR3eddJf",
    "outputId": "03b20974-41b4-4129-9f5e-bd6aaa88aa64",
    "scrolled": false
   },
   "outputs": [
    {
     "name": "stdout",
     "output_type": "stream",
     "text": [
      "job \n",
      " ['admin.' 'technician' 'services' 'management' 'retired' 'unemployed'\n",
      " 'blue-collar' 'entrepreneur' 'housemaid' 'self-employed' 'unknown'\n",
      " 'student']\n",
      "marital \n",
      " ['married' 'single' 'divorced']\n",
      "education \n",
      " ['secondary' 'tertiary' 'unknown' 'primary']\n",
      "default \n",
      " ['no' 'yes']\n",
      "housing \n",
      " ['yes' 'no']\n",
      "loan \n",
      " ['no' 'yes']\n",
      "contact \n",
      " ['unknown' 'cellular' 'telephone']\n",
      "month \n",
      " ['may' 'jun' 'jul' 'aug' 'oct' 'nov' 'dec' 'jan' 'feb' 'mar' 'apr' 'sep']\n",
      "poutcome \n",
      " ['unknown' 'other' 'failure' 'success']\n"
     ]
    }
   ],
   "source": [
    "# Examine unique values for categoricals\n",
    "for col in ['job','marital','education','default','housing','loan','contact','month','poutcome']:\n",
    "    print(col, '\\n', df_balanced[col].unique())"
   ]
  },
  {
   "cell_type": "code",
   "execution_count": 0,
   "metadata": {
    "colab": {
     "base_uri": "https://localhost:8080/",
     "height": 537
    },
    "colab_type": "code",
    "id": "JJ1VvvmQLFK5",
    "outputId": "9d54701f-b504-42c3-a379-62bb7bbbcf2e"
   },
   "outputs": [
    {
     "data": {
      "image/png": "[encoded data removed]",
      "text/plain": [
       "<Figure size 1440x576 with 7 Axes>"
      ]
     },
     "metadata": {
      "tags": []
     },
     "output_type": "display_data"
    }
   ],
   "source": [
    "# Crosstab poutcome, education, contact, marital, loan, housing and default against label y\n",
    "def crosstab1(df,Label,lis):\n",
    "  fig = plt.figure(figsize=(20, 8))\n",
    "  fig.subplots_adjust(hspace=0.8, wspace=0.4)\n",
    " \n",
    "  for i , col in enumerate(lis):\n",
    "    ax=plt.subplot(241 + i)\n",
    "    pd.crosstab(df[col],df['y']).plot(kind='bar', ax = ax)\n",
    "    plt.title(col + Label+' Countplot')\n",
    "    \n",
    "  plt.show()\n",
    "  return\n",
    "\n",
    "lis = ['poutcome','education','contact','marital','loan','housing','default']\n",
    "\n",
    "crosstab1(df_balanced,' Balanced',lis)"
   ]
  },
  {
   "cell_type": "code",
   "execution_count": 16,
   "metadata": {
    "colab": {
     "base_uri": "https://localhost:8080/",
     "height": 68
    },
    "colab_type": "code",
    "id": "WhPSjstaxKqn",
    "outputId": "042b67f3-51aa-4834-82c5-b92505a6222c"
   },
   "outputs": [
    {
     "data": {
      "text/plain": [
       "yes    0.647253\n",
       "no     0.352747\n",
       "Name: y, dtype: float64"
      ]
     },
     "execution_count": 16,
     "metadata": {},
     "output_type": "execute_result"
    }
   ],
   "source": [
    "# Examine previous campaign outcome (poutcome) in more detail\n",
    "poutcome_success=df[df['poutcome']=='success']\n",
    "poutcome_success.y.value_counts() / len(poutcome_success.y)"
   ]
  },
  {
   "cell_type": "code",
   "execution_count": 17,
   "metadata": {
    "colab": {
     "base_uri": "https://localhost:8080/",
     "height": 968
    },
    "colab_type": "code",
    "id": "0l4XrXBzyxa-",
    "outputId": "19570e69-effc-45c6-9298-0d39f9f3397c"
   },
   "outputs": [
    {
     "data": {
      "image/png": "[encoded data removed]",
      "text/plain": [
       "<Figure size 2160x1152 with 4 Axes>"
      ]
     },
     "metadata": {
      "needs_background": "light"
     },
     "output_type": "display_data"
    }
   ],
   "source": [
    "# Crosstab and KDE age, campaign, day and previous against label y\n",
    "def crosstab_kde(df,Label,lis):\n",
    "  fig = plt.figure(figsize=(30, 16))\n",
    "  fig.subplots_adjust(hspace=0.4, wspace=0.05)\n",
    "  for i , col in enumerate(lis):\n",
    "    ax = plt.subplot(421 + i * 2)\n",
    "    pd.crosstab(df[col],df['y']).plot(kind='bar', ax = ax)\n",
    "    plt.title(col + Label+' Countplot')\n",
    "    \n",
    "    \n",
    "  plt.show()\n",
    "\n",
    "lis = ['age','campaign','day','previous']\n",
    "#crosstab_kde(df_baseline,' Baseline',lis)\n",
    "crosstab_kde(df_balanced,' Balanced',lis)"
   ]
  },
  {
   "cell_type": "code",
   "execution_count": 18,
   "metadata": {
    "colab": {
     "base_uri": "https://localhost:8080/",
     "height": 294
    },
    "colab_type": "code",
    "id": "XnouL6XaddJn",
    "outputId": "259be59a-622f-4e4f-9548-422ce7a1f95b",
    "scrolled": false
   },
   "outputs": [
    {
     "data": {
      "image/png": "[encoded data removed]",
      "text/plain": [
       "<Figure size 1080x288 with 1 Axes>"
      ]
     },
     "metadata": {
      "needs_background": "light"
     },
     "output_type": "display_data"
    }
   ],
   "source": [
    "# Countplot job\n",
    "fig = plt.figure(figsize=(15, 4)) \n",
    "sns.countplot(x=\"job\", hue=\"y\", data=df_balanced, order = df_balanced.job.value_counts().index)\n",
    "plt.title( 'Job Balanced Countplot')\n",
    "plt.show()"
   ]
  },
  {
   "cell_type": "code",
   "execution_count": 19,
   "metadata": {
    "colab": {
     "base_uri": "https://localhost:8080/",
     "height": 294
    },
    "colab_type": "code",
    "id": "bRhjr4MaddJq",
    "outputId": "3d67fb69-14f2-40d4-ba2f-adf34b8339a6"
   },
   "outputs": [
    {
     "data": {
      "image/png": "[encoded data removed]",
      "text/plain": [
       "<Figure size 1080x288 with 1 Axes>"
      ]
     },
     "metadata": {
      "needs_background": "light"
     },
     "output_type": "display_data"
    }
   ],
   "source": [
    "# Countplot month\n",
    "fig = plt.figure(figsize=(15, 4)) \n",
    "sns.countplot(x=\"month\", hue=\"y\", data=df_balanced ,order = ['jan','feb','mar','apr','may','jun','jul','aug','sep','oct','nov','dec'])\n",
    "plt.title( 'Month Balanced Countplot')\n",
    "plt.show()"
   ]
  },
  {
   "cell_type": "code",
   "execution_count": 20,
   "metadata": {
    "colab": {},
    "colab_type": "code",
    "id": "a5que47a4Gq6"
   },
   "outputs": [],
   "source": [
    "# Clustering with StandardScaler \n",
    "from sklearn.cluster import KMeans, DBSCAN\n",
    "from sklearn.preprocessing import StandardScaler\n",
    "scaler = StandardScaler()\n",
    "\n",
    "from matplotlib import cm #matplotlib color\n",
    "cmap = cm.get_cmap(\"Spectral\")"
   ]
  },
  {
   "cell_type": "code",
   "execution_count": 23,
   "metadata": {
    "colab": {},
    "colab_type": "code",
    "id": "3dIS3Nz4_TBD"
   },
   "outputs": [],
   "source": [
    "# Apply scaling\n",
    "sc = scaler.fit_transform(df_balanced[['age','balance','duration','campaign','pdays','previous']])"
   ]
  },
  {
   "cell_type": "markdown",
   "metadata": {
    "colab_type": "text",
    "id": "vsoZe7KXM1lu"
   },
   "source": [
    "# 2. Pipeline\n"
   ]
  },
  {
   "cell_type": "markdown",
   "metadata": {
    "cellView": "form",
    "colab": {},
    "colab_type": "code",
    "id": "3oQ9wvQoSYED"
   },
   "source": [
    "# Preprocessing "
   ]
  },
  {
   "cell_type": "code",
   "execution_count": 25,
   "metadata": {
    "colab": {
     "base_uri": "https://localhost:8080/",
     "height": 224
    },
    "colab_type": "code",
    "id": "yGifXFuRVriM",
    "outputId": "a71b2de8-1f19-4c05-a052-a43a3eb0993e"
   },
   "outputs": [
    {
     "data": {
      "text/html": [
       "<div>\n",
       "<style scoped>\n",
       "    .dataframe tbody tr th:only-of-type {\n",
       "        vertical-align: middle;\n",
       "    }\n",
       "\n",
       "    .dataframe tbody tr th {\n",
       "        vertical-align: top;\n",
       "    }\n",
       "\n",
       "    .dataframe thead th {\n",
       "        text-align: right;\n",
       "    }\n",
       "</style>\n",
       "<table border=\"1\" class=\"dataframe\">\n",
       "  <thead>\n",
       "    <tr style=\"text-align: right;\">\n",
       "      <th></th>\n",
       "      <th>age</th>\n",
       "      <th>job</th>\n",
       "      <th>marital</th>\n",
       "      <th>education</th>\n",
       "      <th>default</th>\n",
       "      <th>balance</th>\n",
       "      <th>housing</th>\n",
       "      <th>loan</th>\n",
       "      <th>contact</th>\n",
       "      <th>day</th>\n",
       "      <th>month</th>\n",
       "      <th>duration</th>\n",
       "      <th>campaign</th>\n",
       "      <th>pdays</th>\n",
       "      <th>previous</th>\n",
       "      <th>poutcome</th>\n",
       "      <th>y</th>\n",
       "    </tr>\n",
       "  </thead>\n",
       "  <tbody>\n",
       "    <tr>\n",
       "      <th>32886</th>\n",
       "      <td>60</td>\n",
       "      <td>retired</td>\n",
       "      <td>divorced</td>\n",
       "      <td>tertiary</td>\n",
       "      <td>0</td>\n",
       "      <td>381</td>\n",
       "      <td>1</td>\n",
       "      <td>0</td>\n",
       "      <td>cellular</td>\n",
       "      <td>17</td>\n",
       "      <td>apr</td>\n",
       "      <td>208</td>\n",
       "      <td>2</td>\n",
       "      <td>344</td>\n",
       "      <td>4</td>\n",
       "      <td>failure</td>\n",
       "      <td>0</td>\n",
       "    </tr>\n",
       "    <tr>\n",
       "      <th>40515</th>\n",
       "      <td>81</td>\n",
       "      <td>management</td>\n",
       "      <td>married</td>\n",
       "      <td>tertiary</td>\n",
       "      <td>0</td>\n",
       "      <td>0</td>\n",
       "      <td>0</td>\n",
       "      <td>0</td>\n",
       "      <td>cellular</td>\n",
       "      <td>7</td>\n",
       "      <td>jul</td>\n",
       "      <td>170</td>\n",
       "      <td>1</td>\n",
       "      <td>-1</td>\n",
       "      <td>0</td>\n",
       "      <td>unknown</td>\n",
       "      <td>0</td>\n",
       "    </tr>\n",
       "    <tr>\n",
       "      <th>27358</th>\n",
       "      <td>33</td>\n",
       "      <td>entrepreneur</td>\n",
       "      <td>married</td>\n",
       "      <td>tertiary</td>\n",
       "      <td>0</td>\n",
       "      <td>87</td>\n",
       "      <td>1</td>\n",
       "      <td>1</td>\n",
       "      <td>cellular</td>\n",
       "      <td>21</td>\n",
       "      <td>nov</td>\n",
       "      <td>141</td>\n",
       "      <td>4</td>\n",
       "      <td>-1</td>\n",
       "      <td>0</td>\n",
       "      <td>unknown</td>\n",
       "      <td>0</td>\n",
       "    </tr>\n",
       "    <tr>\n",
       "      <th>29212</th>\n",
       "      <td>43</td>\n",
       "      <td>technician</td>\n",
       "      <td>single</td>\n",
       "      <td>secondary</td>\n",
       "      <td>0</td>\n",
       "      <td>257</td>\n",
       "      <td>1</td>\n",
       "      <td>0</td>\n",
       "      <td>cellular</td>\n",
       "      <td>2</td>\n",
       "      <td>feb</td>\n",
       "      <td>64</td>\n",
       "      <td>2</td>\n",
       "      <td>-1</td>\n",
       "      <td>0</td>\n",
       "      <td>unknown</td>\n",
       "      <td>0</td>\n",
       "    </tr>\n",
       "    <tr>\n",
       "      <th>26872</th>\n",
       "      <td>33</td>\n",
       "      <td>services</td>\n",
       "      <td>married</td>\n",
       "      <td>secondary</td>\n",
       "      <td>0</td>\n",
       "      <td>2918</td>\n",
       "      <td>0</td>\n",
       "      <td>1</td>\n",
       "      <td>cellular</td>\n",
       "      <td>20</td>\n",
       "      <td>nov</td>\n",
       "      <td>1059</td>\n",
       "      <td>2</td>\n",
       "      <td>-1</td>\n",
       "      <td>0</td>\n",
       "      <td>unknown</td>\n",
       "      <td>1</td>\n",
       "    </tr>\n",
       "  </tbody>\n",
       "</table>\n",
       "</div>"
      ],
      "text/plain": [
       "       age           job   marital  education  default  balance  housing  \\\n",
       "32886   60       retired  divorced   tertiary        0      381        1   \n",
       "40515   81    management   married   tertiary        0        0        0   \n",
       "27358   33  entrepreneur   married   tertiary        0       87        1   \n",
       "29212   43    technician    single  secondary        0      257        1   \n",
       "26872   33      services   married  secondary        0     2918        0   \n",
       "\n",
       "       loan   contact  day month  duration  campaign  pdays  previous  \\\n",
       "32886     0  cellular   17   apr       208         2    344         4   \n",
       "40515     0  cellular    7   jul       170         1     -1         0   \n",
       "27358     1  cellular   21   nov       141         4     -1         0   \n",
       "29212     0  cellular    2   feb        64         2     -1         0   \n",
       "26872     1  cellular   20   nov      1059         2     -1         0   \n",
       "\n",
       "      poutcome  y  \n",
       "32886  failure  0  \n",
       "40515  unknown  0  \n",
       "27358  unknown  0  \n",
       "29212  unknown  0  \n",
       "26872  unknown  1  "
      ]
     },
     "execution_count": 25,
     "metadata": {},
     "output_type": "execute_result"
    }
   ],
   "source": [
    "# Preprocessing baseline dataset for yes/no columns ['default','housing','loan','y']\n",
    "for col in ['default','housing','loan','y']:\n",
    "    df_baseline[col].replace(['yes', 'no'],[1, 0], inplace=True)\n",
    "  \n",
    "df_baseline.head()"
   ]
  },
  {
   "cell_type": "code",
   "execution_count": 26,
   "metadata": {
    "colab": {
     "base_uri": "https://localhost:8080/",
     "height": 224
    },
    "colab_type": "code",
    "id": "vYhAQ36CBBVv",
    "outputId": "32d7e8db-64b4-4c2c-af14-e31c473c366c"
   },
   "outputs": [
    {
     "data": {
      "text/html": [
       "<div>\n",
       "<style scoped>\n",
       "    .dataframe tbody tr th:only-of-type {\n",
       "        vertical-align: middle;\n",
       "    }\n",
       "\n",
       "    .dataframe tbody tr th {\n",
       "        vertical-align: top;\n",
       "    }\n",
       "\n",
       "    .dataframe thead th {\n",
       "        text-align: right;\n",
       "    }\n",
       "</style>\n",
       "<table border=\"1\" class=\"dataframe\">\n",
       "  <thead>\n",
       "    <tr style=\"text-align: right;\">\n",
       "      <th></th>\n",
       "      <th>age</th>\n",
       "      <th>job</th>\n",
       "      <th>marital</th>\n",
       "      <th>education</th>\n",
       "      <th>default</th>\n",
       "      <th>balance</th>\n",
       "      <th>housing</th>\n",
       "      <th>loan</th>\n",
       "      <th>contact</th>\n",
       "      <th>day</th>\n",
       "      <th>month</th>\n",
       "      <th>duration</th>\n",
       "      <th>campaign</th>\n",
       "      <th>pdays</th>\n",
       "      <th>previous</th>\n",
       "      <th>poutcome</th>\n",
       "      <th>y</th>\n",
       "    </tr>\n",
       "  </thead>\n",
       "  <tbody>\n",
       "    <tr>\n",
       "      <th>83</th>\n",
       "      <td>59</td>\n",
       "      <td>admin.</td>\n",
       "      <td>married</td>\n",
       "      <td>secondary</td>\n",
       "      <td>0</td>\n",
       "      <td>2343</td>\n",
       "      <td>1</td>\n",
       "      <td>0</td>\n",
       "      <td>unknown</td>\n",
       "      <td>5</td>\n",
       "      <td>may</td>\n",
       "      <td>1042</td>\n",
       "      <td>1</td>\n",
       "      <td>-1</td>\n",
       "      <td>0</td>\n",
       "      <td>unknown</td>\n",
       "      <td>1</td>\n",
       "    </tr>\n",
       "    <tr>\n",
       "      <th>86</th>\n",
       "      <td>56</td>\n",
       "      <td>admin.</td>\n",
       "      <td>married</td>\n",
       "      <td>secondary</td>\n",
       "      <td>0</td>\n",
       "      <td>45</td>\n",
       "      <td>0</td>\n",
       "      <td>0</td>\n",
       "      <td>unknown</td>\n",
       "      <td>5</td>\n",
       "      <td>may</td>\n",
       "      <td>1467</td>\n",
       "      <td>1</td>\n",
       "      <td>-1</td>\n",
       "      <td>0</td>\n",
       "      <td>unknown</td>\n",
       "      <td>1</td>\n",
       "    </tr>\n",
       "    <tr>\n",
       "      <th>87</th>\n",
       "      <td>41</td>\n",
       "      <td>technician</td>\n",
       "      <td>married</td>\n",
       "      <td>secondary</td>\n",
       "      <td>0</td>\n",
       "      <td>1270</td>\n",
       "      <td>1</td>\n",
       "      <td>0</td>\n",
       "      <td>unknown</td>\n",
       "      <td>5</td>\n",
       "      <td>may</td>\n",
       "      <td>1389</td>\n",
       "      <td>1</td>\n",
       "      <td>-1</td>\n",
       "      <td>0</td>\n",
       "      <td>unknown</td>\n",
       "      <td>1</td>\n",
       "    </tr>\n",
       "    <tr>\n",
       "      <th>129</th>\n",
       "      <td>55</td>\n",
       "      <td>services</td>\n",
       "      <td>married</td>\n",
       "      <td>secondary</td>\n",
       "      <td>0</td>\n",
       "      <td>2476</td>\n",
       "      <td>1</td>\n",
       "      <td>0</td>\n",
       "      <td>unknown</td>\n",
       "      <td>5</td>\n",
       "      <td>may</td>\n",
       "      <td>579</td>\n",
       "      <td>1</td>\n",
       "      <td>-1</td>\n",
       "      <td>0</td>\n",
       "      <td>unknown</td>\n",
       "      <td>1</td>\n",
       "    </tr>\n",
       "    <tr>\n",
       "      <th>168</th>\n",
       "      <td>54</td>\n",
       "      <td>admin.</td>\n",
       "      <td>married</td>\n",
       "      <td>tertiary</td>\n",
       "      <td>0</td>\n",
       "      <td>184</td>\n",
       "      <td>0</td>\n",
       "      <td>0</td>\n",
       "      <td>unknown</td>\n",
       "      <td>5</td>\n",
       "      <td>may</td>\n",
       "      <td>673</td>\n",
       "      <td>2</td>\n",
       "      <td>-1</td>\n",
       "      <td>0</td>\n",
       "      <td>unknown</td>\n",
       "      <td>1</td>\n",
       "    </tr>\n",
       "  </tbody>\n",
       "</table>\n",
       "</div>"
      ],
      "text/plain": [
       "     age         job  marital  education  default  balance  housing  loan  \\\n",
       "83    59      admin.  married  secondary        0     2343        1     0   \n",
       "86    56      admin.  married  secondary        0       45        0     0   \n",
       "87    41  technician  married  secondary        0     1270        1     0   \n",
       "129   55    services  married  secondary        0     2476        1     0   \n",
       "168   54      admin.  married   tertiary        0      184        0     0   \n",
       "\n",
       "     contact  day month  duration  campaign  pdays  previous poutcome  y  \n",
       "83   unknown    5   may      1042         1     -1         0  unknown  1  \n",
       "86   unknown    5   may      1467         1     -1         0  unknown  1  \n",
       "87   unknown    5   may      1389         1     -1         0  unknown  1  \n",
       "129  unknown    5   may       579         1     -1         0  unknown  1  \n",
       "168  unknown    5   may       673         2     -1         0  unknown  1  "
      ]
     },
     "execution_count": 26,
     "metadata": {},
     "output_type": "execute_result"
    }
   ],
   "source": [
    "# Preprocessing balanced dataset for yes/no columns ['default','housing','loan','y']\n",
    "for col in ['default','housing','loan','y']:\n",
    "    df_balanced[col].replace(['yes', 'no'],[1, 0], inplace=True)\n",
    "  \n",
    "df_balanced.head()"
   ]
  },
  {
   "cell_type": "code",
   "execution_count": 27,
   "metadata": {
    "colab": {
     "base_uri": "https://localhost:8080/",
     "height": 457
    },
    "colab_type": "code",
    "id": "i99XzYkLUNlD",
    "outputId": "6f93da46-68f0-43c2-e3c3-b3a6a6b633e4"
   },
   "outputs": [
    {
     "name": "stdout",
     "output_type": "stream",
     "text": [
      "(10578, 43) \n",
      " Index(['age', 'default', 'balance', 'housing', 'loan', 'day', 'duration',\n",
      "       'campaign', 'pdays', 'previous', 'y', 'job_blue-collar',\n",
      "       'job_entrepreneur', 'job_housemaid', 'job_management', 'job_retired',\n",
      "       'job_self-employed', 'job_services', 'job_student', 'job_technician',\n",
      "       'job_unemployed', 'job_unknown', 'marital_married', 'marital_single',\n",
      "       'education_secondary', 'education_tertiary', 'education_unknown',\n",
      "       'contact_telephone', 'contact_unknown', 'month_aug', 'month_dec',\n",
      "       'month_feb', 'month_jan', 'month_jul', 'month_jun', 'month_mar',\n",
      "       'month_may', 'month_nov', 'month_oct', 'month_sep', 'poutcome_other',\n",
      "       'poutcome_success', 'poutcome_unknown'],\n",
      "      dtype='object')\n"
     ]
    },
    {
     "data": {
      "text/html": [
       "<div>\n",
       "<style scoped>\n",
       "    .dataframe tbody tr th:only-of-type {\n",
       "        vertical-align: middle;\n",
       "    }\n",
       "\n",
       "    .dataframe tbody tr th {\n",
       "        vertical-align: top;\n",
       "    }\n",
       "\n",
       "    .dataframe thead th {\n",
       "        text-align: right;\n",
       "    }\n",
       "</style>\n",
       "<table border=\"1\" class=\"dataframe\">\n",
       "  <thead>\n",
       "    <tr style=\"text-align: right;\">\n",
       "      <th></th>\n",
       "      <th>age</th>\n",
       "      <th>default</th>\n",
       "      <th>balance</th>\n",
       "      <th>housing</th>\n",
       "      <th>loan</th>\n",
       "      <th>day</th>\n",
       "      <th>duration</th>\n",
       "      <th>campaign</th>\n",
       "      <th>pdays</th>\n",
       "      <th>previous</th>\n",
       "      <th>...</th>\n",
       "      <th>month_jul</th>\n",
       "      <th>month_jun</th>\n",
       "      <th>month_mar</th>\n",
       "      <th>month_may</th>\n",
       "      <th>month_nov</th>\n",
       "      <th>month_oct</th>\n",
       "      <th>month_sep</th>\n",
       "      <th>poutcome_other</th>\n",
       "      <th>poutcome_success</th>\n",
       "      <th>poutcome_unknown</th>\n",
       "    </tr>\n",
       "  </thead>\n",
       "  <tbody>\n",
       "    <tr>\n",
       "      <th>32886</th>\n",
       "      <td>60</td>\n",
       "      <td>0</td>\n",
       "      <td>381</td>\n",
       "      <td>1</td>\n",
       "      <td>0</td>\n",
       "      <td>17</td>\n",
       "      <td>208</td>\n",
       "      <td>2</td>\n",
       "      <td>344</td>\n",
       "      <td>4</td>\n",
       "      <td>...</td>\n",
       "      <td>0</td>\n",
       "      <td>0</td>\n",
       "      <td>0</td>\n",
       "      <td>0</td>\n",
       "      <td>0</td>\n",
       "      <td>0</td>\n",
       "      <td>0</td>\n",
       "      <td>0</td>\n",
       "      <td>0</td>\n",
       "      <td>0</td>\n",
       "    </tr>\n",
       "    <tr>\n",
       "      <th>40515</th>\n",
       "      <td>81</td>\n",
       "      <td>0</td>\n",
       "      <td>0</td>\n",
       "      <td>0</td>\n",
       "      <td>0</td>\n",
       "      <td>7</td>\n",
       "      <td>170</td>\n",
       "      <td>1</td>\n",
       "      <td>-1</td>\n",
       "      <td>0</td>\n",
       "      <td>...</td>\n",
       "      <td>1</td>\n",
       "      <td>0</td>\n",
       "      <td>0</td>\n",
       "      <td>0</td>\n",
       "      <td>0</td>\n",
       "      <td>0</td>\n",
       "      <td>0</td>\n",
       "      <td>0</td>\n",
       "      <td>0</td>\n",
       "      <td>1</td>\n",
       "    </tr>\n",
       "    <tr>\n",
       "      <th>27358</th>\n",
       "      <td>33</td>\n",
       "      <td>0</td>\n",
       "      <td>87</td>\n",
       "      <td>1</td>\n",
       "      <td>1</td>\n",
       "      <td>21</td>\n",
       "      <td>141</td>\n",
       "      <td>4</td>\n",
       "      <td>-1</td>\n",
       "      <td>0</td>\n",
       "      <td>...</td>\n",
       "      <td>0</td>\n",
       "      <td>0</td>\n",
       "      <td>0</td>\n",
       "      <td>0</td>\n",
       "      <td>1</td>\n",
       "      <td>0</td>\n",
       "      <td>0</td>\n",
       "      <td>0</td>\n",
       "      <td>0</td>\n",
       "      <td>1</td>\n",
       "    </tr>\n",
       "    <tr>\n",
       "      <th>29212</th>\n",
       "      <td>43</td>\n",
       "      <td>0</td>\n",
       "      <td>257</td>\n",
       "      <td>1</td>\n",
       "      <td>0</td>\n",
       "      <td>2</td>\n",
       "      <td>64</td>\n",
       "      <td>2</td>\n",
       "      <td>-1</td>\n",
       "      <td>0</td>\n",
       "      <td>...</td>\n",
       "      <td>0</td>\n",
       "      <td>0</td>\n",
       "      <td>0</td>\n",
       "      <td>0</td>\n",
       "      <td>0</td>\n",
       "      <td>0</td>\n",
       "      <td>0</td>\n",
       "      <td>0</td>\n",
       "      <td>0</td>\n",
       "      <td>1</td>\n",
       "    </tr>\n",
       "    <tr>\n",
       "      <th>26872</th>\n",
       "      <td>33</td>\n",
       "      <td>0</td>\n",
       "      <td>2918</td>\n",
       "      <td>0</td>\n",
       "      <td>1</td>\n",
       "      <td>20</td>\n",
       "      <td>1059</td>\n",
       "      <td>2</td>\n",
       "      <td>-1</td>\n",
       "      <td>0</td>\n",
       "      <td>...</td>\n",
       "      <td>0</td>\n",
       "      <td>0</td>\n",
       "      <td>0</td>\n",
       "      <td>0</td>\n",
       "      <td>1</td>\n",
       "      <td>0</td>\n",
       "      <td>0</td>\n",
       "      <td>0</td>\n",
       "      <td>0</td>\n",
       "      <td>1</td>\n",
       "    </tr>\n",
       "  </tbody>\n",
       "</table>\n",
       "<p>5 rows × 43 columns</p>\n",
       "</div>"
      ],
      "text/plain": [
       "       age  default  balance  housing  loan  day  duration  campaign  pdays  \\\n",
       "32886   60        0      381        1     0   17       208         2    344   \n",
       "40515   81        0        0        0     0    7       170         1     -1   \n",
       "27358   33        0       87        1     1   21       141         4     -1   \n",
       "29212   43        0      257        1     0    2        64         2     -1   \n",
       "26872   33        0     2918        0     1   20      1059         2     -1   \n",
       "\n",
       "       previous  ...  month_jul  month_jun  month_mar  month_may  month_nov  \\\n",
       "32886         4  ...          0          0          0          0          0   \n",
       "40515         0  ...          1          0          0          0          0   \n",
       "27358         0  ...          0          0          0          0          1   \n",
       "29212         0  ...          0          0          0          0          0   \n",
       "26872         0  ...          0          0          0          0          1   \n",
       "\n",
       "       month_oct  month_sep  poutcome_other  poutcome_success  \\\n",
       "32886          0          0               0                 0   \n",
       "40515          0          0               0                 0   \n",
       "27358          0          0               0                 0   \n",
       "29212          0          0               0                 0   \n",
       "26872          0          0               0                 0   \n",
       "\n",
       "       poutcome_unknown  \n",
       "32886                 0  \n",
       "40515                 1  \n",
       "27358                 1  \n",
       "29212                 1  \n",
       "26872                 1  \n",
       "\n",
       "[5 rows x 43 columns]"
      ]
     },
     "execution_count": 27,
     "metadata": {},
     "output_type": "execute_result"
    }
   ],
   "source": [
    "# Preprocessing data, get dummy for columns ['job','marital', 'education','contact','month','poutcome']\n",
    "df_baseline = pd.get_dummies(data = df_baseline, columns = ['job', 'marital', 'education', 'contact', 'month', 'poutcome'] , prefix = ['job', 'marital', 'education', 'contact', 'month', 'poutcome'] , drop_first = True)\n",
    "print(df_baseline.shape, '\\n', df_baseline.columns)\n",
    "df_baseline.head()"
   ]
  },
  {
   "cell_type": "code",
   "execution_count": 28,
   "metadata": {
    "colab": {
     "base_uri": "https://localhost:8080/",
     "height": 457
    },
    "colab_type": "code",
    "id": "luTeqMsTB1CB",
    "outputId": "f808a3db-cb14-47b0-96e9-446a0adb1821"
   },
   "outputs": [
    {
     "name": "stdout",
     "output_type": "stream",
     "text": [
      "(10578, 43) \n",
      " Index(['age', 'default', 'balance', 'housing', 'loan', 'day', 'duration',\n",
      "       'campaign', 'pdays', 'previous', 'y', 'job_blue-collar',\n",
      "       'job_entrepreneur', 'job_housemaid', 'job_management', 'job_retired',\n",
      "       'job_self-employed', 'job_services', 'job_student', 'job_technician',\n",
      "       'job_unemployed', 'job_unknown', 'marital_married', 'marital_single',\n",
      "       'education_secondary', 'education_tertiary', 'education_unknown',\n",
      "       'contact_telephone', 'contact_unknown', 'month_aug', 'month_dec',\n",
      "       'month_feb', 'month_jan', 'month_jul', 'month_jun', 'month_mar',\n",
      "       'month_may', 'month_nov', 'month_oct', 'month_sep', 'poutcome_other',\n",
      "       'poutcome_success', 'poutcome_unknown'],\n",
      "      dtype='object')\n"
     ]
    },
    {
     "data": {
      "text/html": [
       "<div>\n",
       "<style scoped>\n",
       "    .dataframe tbody tr th:only-of-type {\n",
       "        vertical-align: middle;\n",
       "    }\n",
       "\n",
       "    .dataframe tbody tr th {\n",
       "        vertical-align: top;\n",
       "    }\n",
       "\n",
       "    .dataframe thead th {\n",
       "        text-align: right;\n",
       "    }\n",
       "</style>\n",
       "<table border=\"1\" class=\"dataframe\">\n",
       "  <thead>\n",
       "    <tr style=\"text-align: right;\">\n",
       "      <th></th>\n",
       "      <th>age</th>\n",
       "      <th>default</th>\n",
       "      <th>balance</th>\n",
       "      <th>housing</th>\n",
       "      <th>loan</th>\n",
       "      <th>day</th>\n",
       "      <th>duration</th>\n",
       "      <th>campaign</th>\n",
       "      <th>pdays</th>\n",
       "      <th>previous</th>\n",
       "      <th>...</th>\n",
       "      <th>month_jul</th>\n",
       "      <th>month_jun</th>\n",
       "      <th>month_mar</th>\n",
       "      <th>month_may</th>\n",
       "      <th>month_nov</th>\n",
       "      <th>month_oct</th>\n",
       "      <th>month_sep</th>\n",
       "      <th>poutcome_other</th>\n",
       "      <th>poutcome_success</th>\n",
       "      <th>poutcome_unknown</th>\n",
       "    </tr>\n",
       "  </thead>\n",
       "  <tbody>\n",
       "    <tr>\n",
       "      <th>83</th>\n",
       "      <td>59</td>\n",
       "      <td>0</td>\n",
       "      <td>2343</td>\n",
       "      <td>1</td>\n",
       "      <td>0</td>\n",
       "      <td>5</td>\n",
       "      <td>1042</td>\n",
       "      <td>1</td>\n",
       "      <td>-1</td>\n",
       "      <td>0</td>\n",
       "      <td>...</td>\n",
       "      <td>0</td>\n",
       "      <td>0</td>\n",
       "      <td>0</td>\n",
       "      <td>1</td>\n",
       "      <td>0</td>\n",
       "      <td>0</td>\n",
       "      <td>0</td>\n",
       "      <td>0</td>\n",
       "      <td>0</td>\n",
       "      <td>1</td>\n",
       "    </tr>\n",
       "    <tr>\n",
       "      <th>86</th>\n",
       "      <td>56</td>\n",
       "      <td>0</td>\n",
       "      <td>45</td>\n",
       "      <td>0</td>\n",
       "      <td>0</td>\n",
       "      <td>5</td>\n",
       "      <td>1467</td>\n",
       "      <td>1</td>\n",
       "      <td>-1</td>\n",
       "      <td>0</td>\n",
       "      <td>...</td>\n",
       "      <td>0</td>\n",
       "      <td>0</td>\n",
       "      <td>0</td>\n",
       "      <td>1</td>\n",
       "      <td>0</td>\n",
       "      <td>0</td>\n",
       "      <td>0</td>\n",
       "      <td>0</td>\n",
       "      <td>0</td>\n",
       "      <td>1</td>\n",
       "    </tr>\n",
       "    <tr>\n",
       "      <th>87</th>\n",
       "      <td>41</td>\n",
       "      <td>0</td>\n",
       "      <td>1270</td>\n",
       "      <td>1</td>\n",
       "      <td>0</td>\n",
       "      <td>5</td>\n",
       "      <td>1389</td>\n",
       "      <td>1</td>\n",
       "      <td>-1</td>\n",
       "      <td>0</td>\n",
       "      <td>...</td>\n",
       "      <td>0</td>\n",
       "      <td>0</td>\n",
       "      <td>0</td>\n",
       "      <td>1</td>\n",
       "      <td>0</td>\n",
       "      <td>0</td>\n",
       "      <td>0</td>\n",
       "      <td>0</td>\n",
       "      <td>0</td>\n",
       "      <td>1</td>\n",
       "    </tr>\n",
       "    <tr>\n",
       "      <th>129</th>\n",
       "      <td>55</td>\n",
       "      <td>0</td>\n",
       "      <td>2476</td>\n",
       "      <td>1</td>\n",
       "      <td>0</td>\n",
       "      <td>5</td>\n",
       "      <td>579</td>\n",
       "      <td>1</td>\n",
       "      <td>-1</td>\n",
       "      <td>0</td>\n",
       "      <td>...</td>\n",
       "      <td>0</td>\n",
       "      <td>0</td>\n",
       "      <td>0</td>\n",
       "      <td>1</td>\n",
       "      <td>0</td>\n",
       "      <td>0</td>\n",
       "      <td>0</td>\n",
       "      <td>0</td>\n",
       "      <td>0</td>\n",
       "      <td>1</td>\n",
       "    </tr>\n",
       "    <tr>\n",
       "      <th>168</th>\n",
       "      <td>54</td>\n",
       "      <td>0</td>\n",
       "      <td>184</td>\n",
       "      <td>0</td>\n",
       "      <td>0</td>\n",
       "      <td>5</td>\n",
       "      <td>673</td>\n",
       "      <td>2</td>\n",
       "      <td>-1</td>\n",
       "      <td>0</td>\n",
       "      <td>...</td>\n",
       "      <td>0</td>\n",
       "      <td>0</td>\n",
       "      <td>0</td>\n",
       "      <td>1</td>\n",
       "      <td>0</td>\n",
       "      <td>0</td>\n",
       "      <td>0</td>\n",
       "      <td>0</td>\n",
       "      <td>0</td>\n",
       "      <td>1</td>\n",
       "    </tr>\n",
       "  </tbody>\n",
       "</table>\n",
       "<p>5 rows × 43 columns</p>\n",
       "</div>"
      ],
      "text/plain": [
       "     age  default  balance  housing  loan  day  duration  campaign  pdays  \\\n",
       "83    59        0     2343        1     0    5      1042         1     -1   \n",
       "86    56        0       45        0     0    5      1467         1     -1   \n",
       "87    41        0     1270        1     0    5      1389         1     -1   \n",
       "129   55        0     2476        1     0    5       579         1     -1   \n",
       "168   54        0      184        0     0    5       673         2     -1   \n",
       "\n",
       "     previous  ...  month_jul  month_jun  month_mar  month_may  month_nov  \\\n",
       "83          0  ...          0          0          0          1          0   \n",
       "86          0  ...          0          0          0          1          0   \n",
       "87          0  ...          0          0          0          1          0   \n",
       "129         0  ...          0          0          0          1          0   \n",
       "168         0  ...          0          0          0          1          0   \n",
       "\n",
       "     month_oct  month_sep  poutcome_other  poutcome_success  poutcome_unknown  \n",
       "83           0          0               0                 0                 1  \n",
       "86           0          0               0                 0                 1  \n",
       "87           0          0               0                 0                 1  \n",
       "129          0          0               0                 0                 1  \n",
       "168          0          0               0                 0                 1  \n",
       "\n",
       "[5 rows x 43 columns]"
      ]
     },
     "execution_count": 28,
     "metadata": {},
     "output_type": "execute_result"
    }
   ],
   "source": [
    "df_balanced = pd.get_dummies(data = df_balanced, columns = ['job', 'marital', 'education', 'contact', 'month', 'poutcome'] , prefix = ['job', 'marital', 'education', 'contact', 'month', 'poutcome'] , drop_first = True)\n",
    "print(df_balanced.shape, '\\n', df_balanced.columns)\n",
    "df_balanced.head()"
   ]
  },
  {
   "cell_type": "code",
   "execution_count": 30,
   "metadata": {
    "colab": {
     "base_uri": "https://localhost:8080/",
     "height": 701
    },
    "colab_type": "code",
    "id": "bch8pUL6luWu",
    "outputId": "3f302b5e-33b4-48ba-c366-c565317a1e37"
   },
   "outputs": [
    {
     "data": {
      "image/png": "[encoded data removed]",
      "text/plain": [
       "<Figure size 1440x360 with 1 Axes>"
      ]
     },
     "metadata": {
      "needs_background": "light"
     },
     "output_type": "display_data"
    },
    {
     "data": {
      "image/png": "[encoded data removed]",
      "text/plain": [
       "<Figure size 1440x360 with 1 Axes>"
      ]
     },
     "metadata": {
      "needs_background": "light"
     },
     "output_type": "display_data"
    }
   ],
   "source": [
    "from sklearn.preprocessing import StandardScaler\n",
    "from sklearn.decomposition import PCA\n",
    "from sklearn.pipeline import make_pipeline\n",
    "\n",
    "def pca_analysis(df,Label):\n",
    "  # Seperate features and predictor\n",
    "  X = df.drop(['y'], axis=1) \n",
    "  y = df['y']\n",
    "  \n",
    "  # Initialize StandardScaler and PCA\n",
    "  scaler = StandardScaler()\n",
    "  pca = PCA()\n",
    "  \n",
    "  # Create PCA pipeline\n",
    "  pipeline = make_pipeline(scaler , pca)\n",
    "  X_pca = pipeline.fit_transform(X)\n",
    "  \n",
    "  # Plot the explained variances\n",
    "  features = range(pca.n_components_)\n",
    "\n",
    "  fig = plt.figure(figsize=(20, 5)) \n",
    "  plt.bar(features, pca.explained_variance_)\n",
    "  plt.xlabel('PCA feature')\n",
    "  plt.ylabel('variance')\n",
    "  plt.xticks(features)\n",
    "  plt.title('PCA '+Label)\n",
    "  plt.show()\n",
    "  \n",
    "  return\n",
    "\n",
    "pca_analysis(df_baseline,\"Baseline\")\n",
    "pca_analysis(df_balanced,\"Balanced\")\n"
   ]
  },
  {
   "cell_type": "code",
   "execution_count": 32,
   "metadata": {
    "colab": {},
    "colab_type": "code",
    "id": "duAxPnt2mU1A"
   },
   "outputs": [],
   "source": [
    "from sklearn.model_selection import GridSearchCV\n",
    "from sklearn.model_selection import train_test_split\n",
    "from sklearn.ensemble import RandomForestClassifier\n",
    "from sklearn.ensemble import GradientBoostingClassifier\n",
    "from sklearn.neighbors import KNeighborsClassifier\n",
    "from sklearn import svm\n",
    "from sklearn.pipeline import Pipeline\n",
    "from sklearn.metrics import accuracy_score, auc, roc_curve, confusion_matrix\n",
    "from sklearn.metrics import classification_report"
   ]
  },
  {
   "cell_type": "code",
   "execution_count": 33,
   "metadata": {
    "colab": {},
    "colab_type": "code",
    "id": "E0je0KI7mVIL"
   },
   "outputs": [],
   "source": [
    "# Seperate baseline features and predictor\n",
    "X_baseline = df_baseline.drop(['y'], axis=1) \n",
    "y_baseline = df_baseline['y']\n",
    "X_train_baseline, X_test_baseline, y_train_baseline, y_test_baseline = train_test_split(X_baseline, y_baseline, test_size=0.3,  random_state=42)\n",
    "\n",
    "# Seperate balanced features and predictor\n",
    "X_balanced = df_balanced.drop(['y'], axis=1) \n",
    "y_balanced = df_balanced['y']\n",
    "X_train_balanced, X_test_balanced, y_train_balanced, y_test_balanced = train_test_split(X_balanced, y_balanced, test_size=0.3,  random_state=42)"
   ]
  },
  {
   "cell_type": "code",
   "execution_count": 34,
   "metadata": {
    "colab": {},
    "colab_type": "code",
    "id": "rsA8uqUSjvYV"
   },
   "outputs": [],
   "source": [
    "# Initialize StandardScaler and PCA\n",
    "scaler = StandardScaler()\n",
    "pca = PCA()"
   ]
  },
  {
   "cell_type": "code",
   "execution_count": 35,
   "metadata": {
    "colab": {},
    "colab_type": "code",
    "id": "kACO0-iUIQKV"
   },
   "outputs": [],
   "source": [
    "# Reusable Modeling Function\n",
    "def make_model(clf,clf_name,Title,param_grid,X_train,y_train,X_test,y_test):\n",
    "  print(Title,'Dataset')\n",
    "  start_time = time.time()\n",
    "\n",
    "  # Create pipeline\n",
    "  pipeline_steps = [(\"sc\", scaler),('pca',pca),( clf_name,clf)]\n",
    "  pipeline = Pipeline(pipeline_steps)\n",
    "\n",
    "  #tune parameters\n",
    "  grid = GridSearchCV(pipeline, param_grid, cv = 5, scoring='accuracy', return_train_score = True, verbose=5, n_jobs=-1)\n",
    "  grid.fit(X_train, y_train)\n",
    "\n",
    "\n",
    "  print('Runtime:',time.time()-start_time)\n",
    "  print(Title,'Dataset best_params_', grid.best_params_)\n",
    "  print(Title,'Dataset best_score', grid.best_score_)\n",
    "  y_pred = grid.predict(X_test)\n",
    "  \n",
    "  grid_score=round(accuracy_score(y_test, y_pred) * 100,2)\n",
    "  print(Title,'Dataset test accuracy_score :', grid_score)\n",
    "  print(classification_report(y_test, y_pred))\n",
    "  clf_tn, clf_fp, clf_fn, clf_tp = confusion_matrix(y_test, y_pred).ravel()\n",
    "  print(Title,'Dataset confusion_matrix: \\n tn: %s \\n fp: %s \\n fn: %s \\n tp: %s' % (clf_tn, clf_fp, clf_fn, clf_tp ))\n",
    "  return grid_score"
   ]
  },
  {
   "cell_type": "markdown",
   "metadata": {
    "cellView": "form",
    "colab": {},
    "colab_type": "code",
    "id": "QOMiPxnZmVQ9"
   },
   "source": [
    "# K-Nearest Neighbour (KNN)"
   ]
  },
  {
   "cell_type": "code",
   "execution_count": 37,
   "metadata": {
    "colab": {
     "base_uri": "https://localhost:8080/",
     "height": 969
    },
    "colab_type": "code",
    "id": "aOhLMoguKjm7",
    "outputId": "f92f6f67-18d9-4acf-97be-c84a2cd00c0d"
   },
   "outputs": [
    {
     "name": "stdout",
     "output_type": "stream",
     "text": [
      "\n",
      "-- K-Nearest Neighbour (KNN) Baseline Dataset\n",
      "Fitting 5 folds for each of 12 candidates, totalling 60 fits\n",
      "Runtime: 52.36094117164612\n",
      "\n",
      "-- K-Nearest Neighbour (KNN) Baseline Dataset best_params_ {'knn__n_neighbors': 5, 'pca__n_components': 27}\n",
      "\n",
      "-- K-Nearest Neighbour (KNN) Baseline Dataset best_score 0.8857365366717156\n",
      "\n",
      "-- K-Nearest Neighbour (KNN) Baseline Dataset test accuracy_score : 89.79\n",
      "              precision    recall  f1-score   support\n",
      "\n",
      "           0       0.92      0.97      0.94      2824\n",
      "           1       0.57      0.32      0.41       350\n",
      "\n",
      "    accuracy                           0.90      3174\n",
      "   macro avg       0.74      0.64      0.68      3174\n",
      "weighted avg       0.88      0.90      0.88      3174\n",
      "\n",
      "\n",
      "-- K-Nearest Neighbour (KNN) Baseline Dataset confusion_matrix: \n",
      " tn: 2739 \n",
      " fp: 85 \n",
      " fn: 239 \n",
      " tp: 111\n",
      "\n",
      "-- K-Nearest Neighbour (KNN) Balanced Dataset\n",
      "Fitting 5 folds for each of 12 candidates, totalling 60 fits\n",
      "Runtime: 41.14820075035095\n",
      "\n",
      "-- K-Nearest Neighbour (KNN) Balanced Dataset best_params_ {'knn__n_neighbors': 5, 'pca__n_components': 28}\n",
      "\n",
      "-- K-Nearest Neighbour (KNN) Balanced Dataset best_score 0.7718817636001971\n",
      "\n",
      "-- K-Nearest Neighbour (KNN) Balanced Dataset test accuracy_score : 78.01\n",
      "              precision    recall  f1-score   support\n",
      "\n",
      "           0       0.76      0.81      0.78      1556\n",
      "           1       0.80      0.75      0.78      1618\n",
      "\n",
      "    accuracy                           0.78      3174\n",
      "   macro avg       0.78      0.78      0.78      3174\n",
      "weighted avg       0.78      0.78      0.78      3174\n",
      "\n",
      "\n",
      "-- K-Nearest Neighbour (KNN) Balanced Dataset confusion_matrix: \n",
      " tn: 1256 \n",
      " fp: 300 \n",
      " fn: 398 \n",
      " tp: 1220\n"
     ]
    }
   ],
   "source": [
    "knn = KNeighborsClassifier()\n",
    "params_knn = {'pca__n_components': [27,28,29,30], 'knn__n_neighbors': [5,10,15]} \n",
    "knn_baseline_score=make_model(knn,\"knn\",\"\\n-- K-Nearest Neighbour (KNN) Baseline\",params_knn,X_train_baseline, y_train_baseline, X_test_baseline, y_test_baseline)\n",
    "knn_balanced_score=make_model(knn,\"knn\",\"\\n-- K-Nearest Neighbour (KNN) Balanced\",params_knn,X_train_balanced, y_train_balanced, X_test_balanced, y_test_balanced)\n"
   ]
  },
  {
   "cell_type": "markdown",
   "metadata": {
    "colab_type": "text",
    "id": "ubpdVraAQDUa"
   },
   "source": [
    "**Observations on K-Nearest Neighbour**\n",
    "\n",
    "KNN overfit on the baseline dataset as can be observed in the low recall score on positives in the baseline test set (19%).  The same metric rises to 71% on the balanced test set even though the overall test accuracy score falls from 88.85% to 76.91%.  Balancing the classes is better."
   ]
  },
  {
   "cell_type": "markdown",
   "metadata": {
    "cellView": "form",
    "colab": {},
    "colab_type": "code",
    "id": "ANRoV6osmVTF"
   },
   "source": [
    "# Support Vector Classifier (SVC)"
   ]
  },
  {
   "cell_type": "code",
   "execution_count": 38,
   "metadata": {
    "colab": {
     "base_uri": "https://localhost:8080/",
     "height": 1057
    },
    "colab_type": "code",
    "id": "qlI3fDCliUkp",
    "outputId": "9ee1d812-7244-48c3-eff9-2c14dee47873"
   },
   "outputs": [
    {
     "name": "stdout",
     "output_type": "stream",
     "text": [
      "\n",
      "-- Support Vector Classifier (SVC) Baseline Dataset\n",
      "Fitting 5 folds for each of 54 candidates, totalling 270 fits\n",
      "Runtime: 143.54025197029114\n",
      "\n",
      "-- Support Vector Classifier (SVC) Baseline Dataset best_params_ {'pca__n_components': 29, 'svc__C': 0.5, 'svc__gamma': 1e-05, 'svc__kernel': 'linear'}\n",
      "\n",
      "-- Support Vector Classifier (SVC) Baseline Dataset best_score 0.8928955052283885\n",
      "\n",
      "-- Support Vector Classifier (SVC) Baseline Dataset test accuracy_score : 90.74\n",
      "              precision    recall  f1-score   support\n",
      "\n",
      "           0       0.92      0.98      0.95      2824\n",
      "           1       0.68      0.30      0.42       350\n",
      "\n",
      "    accuracy                           0.91      3174\n",
      "   macro avg       0.80      0.64      0.68      3174\n",
      "weighted avg       0.89      0.91      0.89      3174\n",
      "\n",
      "\n",
      "-- Support Vector Classifier (SVC) Baseline Dataset confusion_matrix: \n",
      " tn: 2774 \n",
      " fp: 50 \n",
      " fn: 244 \n",
      " tp: 106\n",
      "\n",
      "-- Support Vector Classifier (SVC) Balanced Dataset\n",
      "Fitting 5 folds for each of 54 candidates, totalling 270 fits\n",
      "Runtime: 486.0873408317566\n",
      "\n",
      "-- Support Vector Classifier (SVC) Balanced Dataset best_params_ {'pca__n_components': 31, 'svc__C': 1.5, 'svc__gamma': 1e-07, 'svc__kernel': 'linear'}\n",
      "\n",
      "-- Support Vector Classifier (SVC) Balanced Dataset best_score 0.8230685074000401\n",
      "\n",
      "-- Support Vector Classifier (SVC) Balanced Dataset test accuracy_score : 81.85\n",
      "              precision    recall  f1-score   support\n",
      "\n",
      "           0       0.81      0.83      0.82      1556\n",
      "           1       0.83      0.81      0.82      1618\n",
      "\n",
      "    accuracy                           0.82      3174\n",
      "   macro avg       0.82      0.82      0.82      3174\n",
      "weighted avg       0.82      0.82      0.82      3174\n",
      "\n",
      "\n",
      "-- Support Vector Classifier (SVC) Balanced Dataset confusion_matrix: \n",
      " tn: 1292 \n",
      " fp: 264 \n",
      " fn: 312 \n",
      " tp: 1306\n"
     ]
    }
   ],
   "source": [
    "svc = svm.SVC()\n",
    "params_svc = {'pca__n_components': [29,30,31], \"svc__kernel\": [\"linear\", \"rbf\"], 'svc__C': [0.5,1,1.5],'svc__gamma': [1e-7, 1e-6, 1e-5]}\n",
    "svc_baseline_score=make_model(svc,\"svc\",\"\\n-- Support Vector Classifier (SVC) Baseline\",params_svc,X_train_baseline, y_train_baseline, X_test_baseline, y_test_baseline)\n",
    "svc_balanced_score=make_model(svc,\"svc\",\"\\n-- Support Vector Classifier (SVC) Balanced\",params_svc,X_train_balanced, y_train_balanced, X_test_balanced, y_test_balanced)"
   ]
  },
  {
   "cell_type": "markdown",
   "metadata": {
    "colab_type": "text",
    "id": "zgrhsBvXTZ_Y"
   },
   "source": [
    "**Observations on Support Vector Classifier**\n",
    "\n",
    "SVC overfit on the baseline dataset the same as KNN as can be observed in the low recall score on positives in the baseline test set (27%).  The same metric rises to 81% on the balanced test set even though the overall test accuracy score falls from 89.45% to 81.98%.  Balancing the classes is better again."
   ]
  },
  {
   "cell_type": "markdown",
   "metadata": {
    "cellView": "form",
    "colab": {},
    "colab_type": "code",
    "id": "N0CNNcmliOxV"
   },
   "source": [
    "# Random Forest Classifier (RFC)"
   ]
  },
  {
   "cell_type": "code",
   "execution_count": 39,
   "metadata": {
    "colab": {
     "base_uri": "https://localhost:8080/",
     "height": 1023
    },
    "colab_type": "code",
    "id": "pCd8xl_cT-yp",
    "outputId": "9c8972c7-5ad5-4057-f2b1-6a9557f50ffc"
   },
   "outputs": [
    {
     "name": "stdout",
     "output_type": "stream",
     "text": [
      "\n",
      "-- Random Forest Classifier (RFC) Baseline Dataset\n",
      "Fitting 5 folds for each of 16 candidates, totalling 80 fits\n",
      "Runtime: 71.01589298248291\n",
      "\n",
      "-- Random Forest Classifier (RFC) Baseline Dataset best_params_ {'pca__n_components': 34, 'rfc__n_estimators': 200}\n",
      "\n",
      "-- Random Forest Classifier (RFC) Baseline Dataset best_score 0.8942459441210285\n",
      "\n",
      "-- Random Forest Classifier (RFC) Baseline Dataset test accuracy_score : 90.77\n",
      "              precision    recall  f1-score   support\n",
      "\n",
      "           0       0.93      0.98      0.95      2824\n",
      "           1       0.64      0.36      0.46       350\n",
      "\n",
      "    accuracy                           0.91      3174\n",
      "   macro avg       0.78      0.67      0.71      3174\n",
      "weighted avg       0.89      0.91      0.90      3174\n",
      "\n",
      "\n",
      "-- Random Forest Classifier (RFC) Baseline Dataset confusion_matrix: \n",
      " tn: 2754 \n",
      " fp: 70 \n",
      " fn: 223 \n",
      " tp: 127\n",
      "\n",
      "-- Random Forest Classifier (RFC) Balanced Dataset\n",
      "Fitting 5 folds for each of 16 candidates, totalling 80 fits\n",
      "Runtime: 67.22813963890076\n",
      "\n",
      "-- Random Forest Classifier (RFC) Balanced Dataset best_params_ {'pca__n_components': 36, 'rfc__n_estimators': 100}\n",
      "\n",
      "-- Random Forest Classifier (RFC) Balanced Dataset best_score 0.8334696242495028\n",
      "\n",
      "-- Random Forest Classifier (RFC) Balanced Dataset test accuracy_score : 82.89\n",
      "              precision    recall  f1-score   support\n",
      "\n",
      "           0       0.83      0.82      0.83      1556\n",
      "           1       0.83      0.83      0.83      1618\n",
      "\n",
      "    accuracy                           0.83      3174\n",
      "   macro avg       0.83      0.83      0.83      3174\n",
      "weighted avg       0.83      0.83      0.83      3174\n",
      "\n",
      "\n",
      "-- Random Forest Classifier (RFC) Balanced Dataset confusion_matrix: \n",
      " tn: 1280 \n",
      " fp: 276 \n",
      " fn: 267 \n",
      " tp: 1351\n"
     ]
    }
   ],
   "source": [
    "rfc = RandomForestClassifier()\n",
    "params_rfc = {'pca__n_components': [33,34,35,36], 'rfc__n_estimators': [50,100,150,200]}\n",
    "rfc_baseline_score=make_model(rfc,\"rfc\",\"\\n-- Random Forest Classifier (RFC) Baseline\",params_rfc,X_train_baseline, y_train_baseline, X_test_baseline, y_test_baseline)\n",
    "rfc_balanced_score=make_model(rfc,\"rfc\",\"\\n-- Random Forest Classifier (RFC) Balanced\",params_rfc,X_train_balanced, y_train_balanced, X_test_balanced, y_test_balanced)"
   ]
  },
  {
   "cell_type": "markdown",
   "metadata": {
    "colab_type": "text",
    "id": "BNmYtP1LWnrw"
   },
   "source": [
    "**Observations on Random Forest Classifier**\n",
    "\n",
    "RFC overfit on the baseline dataset the same as KNN and SVC as can be observed in the low recall score on positives in the baseline test set (34%).  The same metric rises to 85% on the balanced test set even though the overall test accuracy score falls from 89.29% to 83.36%.  Balancing the classes is better again."
   ]
  },
  {
   "cell_type": "markdown",
   "metadata": {
    "cellView": "form",
    "colab": {},
    "colab_type": "code",
    "id": "su0eMCHuXV_p"
   },
   "source": [
    "# Gradient Boosting Classifier (GBC)"
   ]
  },
  {
   "cell_type": "code",
   "execution_count": 40,
   "metadata": {
    "colab": {
     "base_uri": "https://localhost:8080/",
     "height": 1023
    },
    "colab_type": "code",
    "id": "A8GWkw9ZXABX",
    "outputId": "248676ea-7856-40d0-8ce0-5c1d60d14dde"
   },
   "outputs": [
    {
     "name": "stdout",
     "output_type": "stream",
     "text": [
      "\n",
      "-- Gradient Boosting Classifier (GBC) Baseline Dataset\n",
      "Fitting 5 folds for each of 27 candidates, totalling 135 fits\n",
      "Runtime: 262.0948646068573\n",
      "\n",
      "-- Gradient Boosting Classifier (GBC) Baseline Dataset best_params_ {'gbc__learning_rate': 0.1, 'gbc__n_estimators': 150, 'pca__n_components': 38}\n",
      "\n",
      "-- Gradient Boosting Classifier (GBC) Baseline Dataset best_score 0.8961371972918226\n",
      "\n",
      "-- Gradient Boosting Classifier (GBC) Baseline Dataset test accuracy_score : 91.02\n",
      "              precision    recall  f1-score   support\n",
      "\n",
      "           0       0.93      0.97      0.95      2824\n",
      "           1       0.65      0.41      0.50       350\n",
      "\n",
      "    accuracy                           0.91      3174\n",
      "   macro avg       0.79      0.69      0.73      3174\n",
      "weighted avg       0.90      0.91      0.90      3174\n",
      "\n",
      "\n",
      "-- Gradient Boosting Classifier (GBC) Baseline Dataset confusion_matrix: \n",
      " tn: 2745 \n",
      " fp: 79 \n",
      " fn: 206 \n",
      " tp: 144\n",
      "\n",
      "-- Gradient Boosting Classifier (GBC) Balanced Dataset\n",
      "Fitting 5 folds for each of 27 candidates, totalling 135 fits\n",
      "Runtime: 299.654559135437\n",
      "\n",
      "-- Gradient Boosting Classifier (GBC) Balanced Dataset best_params_ {'gbc__learning_rate': 0.1, 'gbc__n_estimators': 200, 'pca__n_components': 40}\n",
      "\n",
      "-- Gradient Boosting Classifier (GBC) Balanced Dataset best_score 0.8426533386864244\n",
      "\n",
      "-- Gradient Boosting Classifier (GBC) Balanced Dataset test accuracy_score : 83.36\n",
      "              precision    recall  f1-score   support\n",
      "\n",
      "           0       0.83      0.84      0.83      1556\n",
      "           1       0.84      0.83      0.84      1618\n",
      "\n",
      "    accuracy                           0.83      3174\n",
      "   macro avg       0.83      0.83      0.83      3174\n",
      "weighted avg       0.83      0.83      0.83      3174\n",
      "\n",
      "\n",
      "-- Gradient Boosting Classifier (GBC) Balanced Dataset confusion_matrix: \n",
      " tn: 1302 \n",
      " fp: 254 \n",
      " fn: 274 \n",
      " tp: 1344\n"
     ]
    }
   ],
   "source": [
    "gbc = GradientBoostingClassifier()\n",
    "params_gbc = {'pca__n_components': [38, 39, 40], 'gbc__learning_rate': [0.05, 0.1, 0.5] , 'gbc__n_estimators': [100,150,200]}\n",
    "gbc_baseline_score=make_model(gbc,\"gbc\",\"\\n-- Gradient Boosting Classifier (GBC) Baseline\",params_gbc,X_train_baseline, y_train_baseline, X_test_baseline, y_test_baseline)\n",
    "gbc_balanced_score=make_model(gbc,\"gbc\",\"\\n-- Gradient Boosting Classifier (GBC) Balanced\",params_gbc,X_train_balanced, y_train_balanced, X_test_balanced, y_test_balanced)"
   ]
  },
  {
   "cell_type": "markdown",
   "metadata": {
    "colab_type": "text",
    "id": "HeVeYytndEZP"
   },
   "source": [
    "**Observations on Gradient Boosting**\n",
    "\n",
    "GBC overfit on the baseline dataset the same as KNN, SVC and RFC as can be observed in the low recall score on positives in the baseline test set (34%).  The same metric rises to 84% on the balanced test set even though the overall test accuracy score falls from 89.7% to 83.96%.  Balancing the classes is better again."
   ]
  },
  {
   "cell_type": "markdown",
   "metadata": {
    "cellView": "form",
    "colab": {},
    "colab_type": "code",
    "id": "wmuBkePBTi0a"
   },
   "source": [
    "# Deep Neural Network (DNN)"
   ]
  },
  {
   "cell_type": "code",
   "execution_count": 44,
   "metadata": {
    "colab": {},
    "colab_type": "code",
    "id": "tYQILYcNW_6D"
   },
   "outputs": [],
   "source": [
    "from tensorflow.keras import layers\n",
    "from tensorflow import keras \n",
    "import tensorflow as tf\n",
    "from tensorflow.python.layers import base\n",
    "import tf_slim as slim\n",
    "\n",
    "from keras.layers import Dense, Input, Embedding, Reshape, Dropout\n",
    "from keras.models import Model,Sequential\n",
    "from keras.layers.merge import concatenate\n",
    "from keras.wrappers.scikit_learn import KerasRegressor, KerasClassifier\n",
    "from tensorflow.keras.optimizers import SGD\n",
    "from keras.constraints import maxnorm"
   ]
  },
  {
   "cell_type": "code",
   "execution_count": 45,
   "metadata": {
    "colab": {},
    "colab_type": "code",
    "id": "I8EquXIJXAO_"
   },
   "outputs": [],
   "source": [
    "def create_model():\n",
    "  \n",
    "  # default values\n",
    "  activation='relu' # or linear\n",
    "  dropout_rate=0.5 # 0.0, 0.1, 0.2, 0.3, 0.4, 0.5, 0.6, 0.7, 0.8, 0.9\n",
    "  init_mode='uniform'\n",
    "  weight_constraint=3 # 1, 2, 3, 4, 5\n",
    "  optimizer='adam' # or SGD\n",
    "  lr = 0.01 #0.001, 0.01, 0.1, 0.2, 0.3\n",
    "  momentum=0.1 #0.0, 0.2, 0.4, 0.6, 0.8, 0.9\n",
    " \n",
    "  model = Sequential()\n",
    "  model.add(Dense(128, input_dim=42, activation=activation))\n",
    "  model.add(Dropout(dropout_rate))\n",
    "  model.add(Dense(128, activation=activation))\n",
    "  model.add(Dropout(dropout_rate))\n",
    "  model.add(Dense(1, activation='sigmoid'))\n",
    "  model.compile(loss='binary_crossentropy', optimizer='adam', metrics=['accuracy'])\n",
    "  return model"
   ]
  },
  {
   "cell_type": "code",
   "execution_count": 46,
   "metadata": {
    "colab": {},
    "colab_type": "code",
    "id": "V7E6ruyfYS6a"
   },
   "outputs": [],
   "source": [
    "def make_dnn(clf,clf_name,Title,X_train,y_train,X_test,y_test):\n",
    "  print(Title,'Dataset')\n",
    "  start_time = time.time()\n",
    "\n",
    "  # Initialize StandardScaler\n",
    "  scaler = StandardScaler()\n",
    "  \n",
    "  # Create pipeline\n",
    "  pipeline = make_pipeline(scaler)\n",
    "  X_scaled = pipeline.fit_transform(X_train)\n",
    "  X_test_scaled = pipeline.fit_transform(X_test)\n",
    " \n",
    "\n",
    "  # Fit the model\n",
    "  clf.fit(X_scaled, y_train, epochs=100, batch_size=50)\n",
    "\n",
    "  # Apply the model to the holdout data\n",
    "  y_pred = clf.predict(X_test_scaled)\n",
    "\n",
    "  # Set threshold = 0.5. Increasing the threshold decreases the recall.\n",
    "  y_pred = [0 if x <0.5 else 1 for x in y_pred]\n",
    "\n",
    "\n",
    "  print('Runtime:',time.time()-start_time)\n",
    "  \n",
    "  dnn_score=round(accuracy_score(y_test_balanced, y_pred) * 100,2)\n",
    "  print(Title,'Dataset test accuracy_score',dnn_score)\n",
    "  print(classification_report(y_test_balanced, y_pred))\n",
    "  dnn_tn, dnn_fp, dnn_fn, dnn_tp = confusion_matrix(y_test_balanced, y_pred).ravel()\n",
    "  print(Title,'Dataset confusion_matrix: \\n tn: %s \\n fp: %s \\n fn: %s \\n tp: %s' % (dnn_tn, dnn_fp, dnn_fn, dnn_tp ))\n",
    "  return dnn_score\n",
    "\n"
   ]
  },
  {
   "cell_type": "code",
   "execution_count": 47,
   "metadata": {
    "colab": {
     "base_uri": "https://localhost:8080/",
     "height": 697
    },
    "colab_type": "code",
    "id": "EOSw7IN9gjhI",
    "outputId": "7a85c2ef-b23f-4acd-c5d8-ae229e68915a"
   },
   "outputs": [
    {
     "name": "stdout",
     "output_type": "stream",
     "text": [
      "\n",
      "-- Deep Neural Network (DNN) Baseline Dataset\n",
      "Runtime: 23.367740154266357\n",
      "\n",
      "-- Deep Neural Network (DNN) Baseline Dataset test accuracy_score 49.12\n",
      "              precision    recall  f1-score   support\n",
      "\n",
      "           0       0.49      0.92      0.64      1556\n",
      "           1       0.51      0.08      0.14      1618\n",
      "\n",
      "    accuracy                           0.49      3174\n",
      "   macro avg       0.50      0.50      0.39      3174\n",
      "weighted avg       0.50      0.49      0.38      3174\n",
      "\n",
      "\n",
      "-- Deep Neural Network (DNN) Baseline Dataset confusion_matrix: \n",
      " tn: 1429 \n",
      " fp: 127 \n",
      " fn: 1488 \n",
      " tp: 130\n",
      "\n",
      "-- Deep Neural Network (DNN) Balanced Dataset\n",
      "Runtime: 23.079248666763306\n",
      "\n",
      "-- Deep Neural Network (DNN) Balanced Dataset test accuracy_score 86.07\n",
      "              precision    recall  f1-score   support\n",
      "\n",
      "           0       0.89      0.81      0.85      1556\n",
      "           1       0.84      0.91      0.87      1618\n",
      "\n",
      "    accuracy                           0.86      3174\n",
      "   macro avg       0.86      0.86      0.86      3174\n",
      "weighted avg       0.86      0.86      0.86      3174\n",
      "\n",
      "\n",
      "-- Deep Neural Network (DNN) Balanced Dataset confusion_matrix: \n",
      " tn: 1267 \n",
      " fp: 289 \n",
      " fn: 153 \n",
      " tp: 1465\n"
     ]
    }
   ],
   "source": [
    "# Wrap the model using the function you created\n",
    "ker = KerasRegressor(build_fn=create_model,verbose=0,shuffle=True)\n",
    "ker_baseline_score=make_dnn(ker,\"ker\",\"\\n-- Deep Neural Network (DNN) Baseline\",X_train_baseline, y_train_baseline, X_test_baseline, y_test_baseline)\n",
    "ker_balanced_score=make_dnn(ker,\"ker\",\"\\n-- Deep Neural Network (DNN) Balanced\",X_train_balanced, y_train_balanced, X_test_balanced, y_test_balanced)\n"
   ]
  },
  {
   "cell_type": "markdown",
   "metadata": {
    "colab_type": "text",
    "id": "S0jEVE6fLcya"
   },
   "source": [
    "**Observations on Deep Neural Network**\n",
    "\n",
    "DNN did no better than random guess on the baseline test set (50:50). The same metric rises to 86% on the balanced test set whether positive or negative and precision or recall. Balancing the classes is better again."
   ]
  },
  {
   "cell_type": "markdown",
   "metadata": {
    "colab_type": "text",
    "id": "mvbb3Z7IOfLl"
   },
   "source": [
    "## Comparing Models"
   ]
  },
  {
   "cell_type": "code",
   "execution_count": 48,
   "metadata": {
    "colab": {
     "base_uri": "https://localhost:8080/",
     "height": 102
    },
    "colab_type": "code",
    "id": "38jzXc3y6VPv",
    "outputId": "b70d777b-283d-4db3-cf4e-7bad6e4daf83"
   },
   "outputs": [
    {
     "name": "stdout",
     "output_type": "stream",
     "text": [
      "KNN accuracy balanced test score :               78.01\n",
      "SVM balanced test accuracy score :               81.85\n",
      "Random Forest balanced test accuracy score :     82.89\n",
      "Gradient Boosting balanced test accuracy score : 83.36\n",
      "DNN balanced test accuracy score :               86.07\n"
     ]
    }
   ],
   "source": [
    "print('KNN accuracy balanced test score :              ', knn_balanced_score)\n",
    "print('SVM balanced test accuracy score :              ', svc_balanced_score)\n",
    "print('Random Forest balanced test accuracy score :    ', rfc_balanced_score)\n",
    "print('Gradient Boosting balanced test accuracy score :', gbc_balanced_score)\n",
    "print('DNN balanced test accuracy score :              ', ker_balanced_score)"
   ]
  },
  {
   "cell_type": "code",
   "execution_count": 0,
   "metadata": {
    "colab": {},
    "colab_type": "code",
    "id": "DiNXGOOUGSgF"
   },
   "outputs": [],
   "source": []
  }
 ],
 "metadata": {
  "accelerator": "GPU",
  "colab": {
   "collapsed_sections": [],
   "name": "EDA_and_Modeling_FINAL.ipynb",
   "provenance": [],
   "toc_visible": true
  },
  "kernelspec": {
   "display_name": "Python 3 (ipykernel)",
   "language": "python",
   "name": "python3"
  },
  "language_info": {
   "codemirror_mode": {
    "name": "ipython",
    "version": 3
   },
   "file_extension": ".py",
   "mimetype": "text/x-python",
   "name": "python",
   "nbconvert_exporter": "python",
   "pygments_lexer": "ipython3",
   "version": "3.9.7"
  }
 },
 "nbformat": 4,
 "nbformat_minor": 1
}
